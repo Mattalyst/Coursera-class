{
 "cells": [
  {
   "cell_type": "markdown",
   "id": "16cd0d57-a9bb-40fb-b973-f7af52409072",
   "metadata": {},
   "source": [
    "# Data Science Tools and Ecosystem"
   ]
  },
  {
   "cell_type": "markdown",
   "id": "d4ce1cb2-210a-4107-a8ab-3ccd4a062c7c",
   "metadata": {},
   "source": [
    "In this notebook, Data Science Tools and Ecosystem are summarized."
   ]
  },
  {
   "cell_type": "markdown",
   "id": "4de0bfa3-6e13-4e54-92e0-3a15048fb52c",
   "metadata": {},
   "source": [
    "**Objectives:**"
   ]
  },
  {
   "cell_type": "markdown",
   "id": "7ca6fbbd-a6d6-41b5-a102-4fb63f50cee2",
   "metadata": {},
   "source": [
    "* List popular languages for Data Science.\n",
    "* List commonly used libraries for Data Science.\n",
    "* List Data science tools\n",
    "* Evaluate arithmetic expressions in Python"
   ]
  },
  {
   "cell_type": "markdown",
   "id": "7055e962-5183-4f82-b40b-b8c66470d913",
   "metadata": {},
   "source": [
    "Some of the common languages that Data Scientists use are:\n",
    "1. Python\n",
    "2. R\n",
    "3. SQL\n",
    "4. Scala\n",
    "5. Julia"
   ]
  },
  {
   "cell_type": "markdown",
   "id": "8f038c63-a37f-489f-81b7-2226bb0ef58e",
   "metadata": {},
   "source": [
    "Some of the commonly used libraries by Data Scientists are:\n",
    "1. NumPy\n",
    "2. Pandas\n",
    "3. Matplotlib\n",
    "4. Scikit-Learn"
   ]
  },
  {
   "cell_type": "markdown",
   "id": "809705bf-dc41-44ed-8777-7819ebc923da",
   "metadata": {},
   "source": [
    "|Data Science Tools|\n",
    "| ---------------- |\n",
    "| Apache Spark |\n",
    "| Apachae Hadoop |\n",
    "| Countly |\n",
    "| MongoDB |\n"
   ]
  },
  {
   "cell_type": "markdown",
   "id": "ff404c22-932b-4ca4-bb3b-edf237e66461",
   "metadata": {},
   "source": [
    "### Below are a few examples of evaluating arithmetic expressions in Python"
   ]
  },
  {
   "cell_type": "code",
   "execution_count": 14,
   "id": "bec45d95-05ba-47e7-8123-d8cc599a9d24",
   "metadata": {},
   "outputs": [
    {
     "data": {
      "text/plain": [
       "17"
      ]
     },
     "execution_count": 14,
     "metadata": {},
     "output_type": "execute_result"
    }
   ],
   "source": [
    "# This a simple arithmetic expression to mutiply then add integers\n",
    "\n",
    "(3*4)+5"
   ]
  },
  {
   "cell_type": "code",
   "execution_count": 16,
   "id": "840f63b6-7dcf-4eef-a9d6-a0775babcb15",
   "metadata": {},
   "outputs": [
    {
     "data": {
      "text/plain": [
       "3.3333333333333335"
      ]
     },
     "execution_count": 16,
     "metadata": {},
     "output_type": "execute_result"
    }
   ],
   "source": [
    "# This will convert 200 minutes to hours by diving by 60\n",
    "200/60"
   ]
  },
  {
   "cell_type": "markdown",
   "id": "76f01de1-2be4-4e81-92dd-a828e15eb10e",
   "metadata": {},
   "source": [
    "## Author"
   ]
  },
  {
   "cell_type": "markdown",
   "id": "23c02085-5a94-43a7-a88f-fc1c8e26413c",
   "metadata": {},
   "source": [
    "Matt Estes"
   ]
  }
 ],
 "metadata": {
  "kernelspec": {
   "display_name": "Python 3 (ipykernel)",
   "language": "python",
   "name": "python3"
  },
  "language_info": {
   "codemirror_mode": {
    "name": "ipython",
    "version": 3
   },
   "file_extension": ".py",
   "mimetype": "text/x-python",
   "name": "python",
   "nbconvert_exporter": "python",
   "pygments_lexer": "ipython3",
   "version": "3.12.4"
  }
 },
 "nbformat": 4,
 "nbformat_minor": 5
}
